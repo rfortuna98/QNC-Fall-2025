{
  "nbformat": 4,
  "nbformat_minor": 0,
  "metadata": {
    "colab": {
      "provenance": [],
      "authorship_tag": "ABX9TyNLt8DLNaKIpD/MLy77FSjO",
      "include_colab_link": true
    },
    "kernelspec": {
      "name": "python3",
      "display_name": "Python 3"
    },
    "language_info": {
      "name": "python"
    }
  },
  "cells": [
    {
      "cell_type": "markdown",
      "metadata": {
        "id": "view-in-github",
        "colab_type": "text"
      },
      "source": [
        "<a href=\"https://colab.research.google.com/github/rfortuna98/QNC-Fall-2025/blob/main/Binomial_ex2.ipynb\" target=\"_parent\"><img src=\"https://colab.research.google.com/assets/colab-badge.svg\" alt=\"Open In Colab\"/></a>"
      ]
    },
    {
      "cell_type": "code",
      "execution_count": 3,
      "metadata": {
        "colab": {
          "base_uri": "https://localhost:8080/"
        },
        "id": "Le7TbeLgZKp7",
        "outputId": "a414cc1b-b642-4dfd-d11f-535b6a05c9de"
      },
      "outputs": [
        {
          "output_type": "stream",
          "name": "stdout",
          "text": [
            "Likelihoods for each p:\n",
            "p = 0.1 -> Likelihood = 0.000016\n",
            "p = 0.2 -> Likelihood = 0.002015\n",
            "p = 0.3 -> Likelihood = 0.023180\n",
            "p = 0.4 -> Likelihood = 0.091821\n",
            "p = 0.5 -> Likelihood = 0.183289\n",
            "p = 0.6 -> Likelihood = 0.206598\n",
            "p = 0.7 -> Likelihood = 0.126202\n",
            "p = 0.8 -> Likelihood = 0.032244\n",
            "p = 0.9 -> Likelihood = 0.001293\n",
            "p = 1.0 -> Likelihood = 0.000000\n",
            "\n",
            "Maximum Likelihood Estimate (MLE): p = 0.6 with likelihood = 0.206598\n"
          ]
        }
      ],
      "source": [
        "#Exercice 2\n",
        "#14 quanta in a terminal, theoretical release p=0.1\n",
        "#Test result is 8. Probability=?\n",
        "#What is the probability if it was p=0.7\n",
        "import numpy as np\n",
        "import matplotlib.pyplot as plt\n",
        "from scipy.stats import binom\n",
        "# Parameters\n",
        "n = 14       # number of quanta\n",
        "p_values = np.linspace(0.1, 1.0, 10)  # from 0.1 to 1.0 in steps of 0.1\n",
        "k = 8         # observed released quanta\n",
        "\n",
        "# Compute likelihoods using the binomial PMF\n",
        "likelihoods = binom.pmf(k, n, p_values)\n",
        "\n",
        "# Find the maximum likelihood estimate (MLE)\n",
        "max_likelihood = np.max(likelihoods)\n",
        "mle_p = p_values[np.argmax(likelihoods)]\n",
        "\n",
        "# Print results\n",
        "print(\"Likelihoods for each p:\")\n",
        "for p, L in zip(p_values, likelihoods):\n",
        "    print(f\"p = {p:.1f} -> Likelihood = {L:.6f}\")\n",
        "print(f\"\\nMaximum Likelihood Estimate (MLE): p = {mle_p:.1f} with likelihood = {max_likelihood:.6f}\")\n",
        "\n",
        "\n",
        "\n",
        "#Most likely real p value is between 0.4 and 0.7"
      ]
    }
  ]
}